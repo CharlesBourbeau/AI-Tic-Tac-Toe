{
  "nbformat": 4,
  "nbformat_minor": 0,
  "metadata": {
    "colab": {
      "name": "Comp551PreProcessing",
      "provenance": [],
      "collapsed_sections": [],
      "authorship_tag": "ABX9TyPZLcAI1DIPEUwOt9Mb1sRB",
      "include_colab_link": true
    },
    "kernelspec": {
      "name": "python3",
      "display_name": "Python 3"
    },
    "language_info": {
      "name": "python"
    }
  },
  "cells": [
    {
      "cell_type": "markdown",
      "metadata": {
        "id": "view-in-github",
        "colab_type": "text"
      },
      "source": [
        "<a href=\"https://colab.research.google.com/github/CharlesBourbeau/AI-Tic-Tac-Toe/blob/master/Comp551PreProcessing.ipynb\" target=\"_parent\"><img src=\"https://colab.research.google.com/assets/colab-badge.svg\" alt=\"Open In Colab\"/></a>"
      ]
    },
    {
      "cell_type": "code",
      "metadata": {
        "colab": {
          "base_uri": "https://localhost:8080/"
        },
        "id": "HW7HKFzyfRI-",
        "outputId": "099a75a7-78f7-495a-c508-1d2420cf1646"
      },
      "source": [
        "!ls"
      ],
      "execution_count": 3,
      "outputs": [
        {
          "output_type": "stream",
          "name": "stdout",
          "text": [
            "sample_data\n"
          ]
        }
      ]
    },
    {
      "cell_type": "code",
      "metadata": {
        "colab": {
          "base_uri": "https://localhost:8080/"
        },
        "id": "D-YqEVpnfV-2",
        "outputId": "15d86854-f4f6-4f8b-8116-db7614f0f604"
      },
      "source": [
        "from google.colab import drive\n",
        "drive.mount('/content/drive')"
      ],
      "execution_count": 1,
      "outputs": [
        {
          "output_type": "stream",
          "name": "stdout",
          "text": [
            "Mounted at /content/drive\n"
          ]
        }
      ]
    },
    {
      "cell_type": "code",
      "metadata": {
        "colab": {
          "base_uri": "https://localhost:8080/"
        },
        "id": "D_XrtSRsfoNx",
        "outputId": "64e0c804-4991-4b79-ab46-41a1a69c0ffe"
      },
      "source": [
        "!ls"
      ],
      "execution_count": 2,
      "outputs": [
        {
          "output_type": "stream",
          "name": "stdout",
          "text": [
            "drive  sample_data\n"
          ]
        }
      ]
    },
    {
      "cell_type": "code",
      "metadata": {
        "id": "PPjPw_DmMaBr"
      },
      "source": [
        "import matplotlib.pyplot as plt\n",
        "import numpy as np\n",
        "import pickle"
      ],
      "execution_count": 3,
      "outputs": []
    },
    {
      "cell_type": "code",
      "metadata": {
        "id": "j8vZCgQ1SLHZ"
      },
      "source": [
        "path = './drive/MyDrive/COMP551_Assignment3/comp-551-fall-2021/'"
      ],
      "execution_count": 4,
      "outputs": []
    },
    {
      "cell_type": "code",
      "metadata": {
        "id": "AAYPtLg3fu4s",
        "colab": {
          "base_uri": "https://localhost:8080/"
        },
        "outputId": "8e076b2d-30cd-42e3-f4f8-b0034c27493c"
      },
      "source": [
        "with open(f'{path}/images_ul.pkl', 'rb') as f:\n",
        "    data = pickle.load(f)\n",
        "data.shape"
      ],
      "execution_count": 85,
      "outputs": [
        {
          "output_type": "execute_result",
          "data": {
            "text/plain": [
              "(30000, 56, 56)"
            ]
          },
          "metadata": {},
          "execution_count": 85
        }
      ]
    },
    {
      "cell_type": "code",
      "metadata": {
        "id": "NK1iYf_7o4I7"
      },
      "source": [
        "def threshold(im, t):\n",
        "    thresholded = np.copy(data)\n",
        "    thresholded[data<60] = 0\n",
        "    return thresholded\n",
        "\n",
        "# median filtering for only one image\n",
        "def median_filtering_2D(im):\n",
        "    pad = np.pad(im, (1,1), mode='constant')\n",
        "    res = np.empty(im.shape, dtype=im.dtype)\n",
        "\n",
        "    R, C = im.shape\n",
        "    for i in range(0, R):\n",
        "        for j in range(0, C):\n",
        "            ii, jj = i + 1, j + 1\n",
        "            res[i, j] = np.median(pad[ii-1:ii+2, jj-1:jj+2])\n",
        "\n",
        "\n",
        "    return res\n",
        "\n",
        "# median filtering for all images at the same time\n",
        "def median_filtering(data):\n",
        "    rolled = np.moveaxis(data, 0, 2)\n",
        "    pad = np.pad(rolled, ((1,1),(1,1), (0,0)), mode='constant', constant_values=0)\n",
        "\n",
        "    res = np.empty(rolled.shape, dtype=rolled.dtype)\n",
        "\n",
        "    R, C, _ = rolled.shape\n",
        "    for i in range(0, R):\n",
        "        for j in range(0, C):\n",
        "            ii, jj = i + 1, j + 1\n",
        "            res[i, j, :] = np.median(pad[ii-1:ii+2, jj-1:jj+2, :], axis=(0,1))\n",
        "\n",
        "    return np.moveaxis(res, 2, 0)"
      ],
      "execution_count": 92,
      "outputs": []
    },
    {
      "cell_type": "markdown",
      "metadata": {
        "id": "9gG8Jcvwfsby"
      },
      "source": [
        "# Filter the images and save then as pickle"
      ]
    },
    {
      "cell_type": "code",
      "metadata": {
        "id": "6OAPbHvMdPoM"
      },
      "source": [
        "files = [\n",
        "         ('images_l.pkl', 'images_l_filtered.pkl', 0),\n",
        "         ('images_test.pkl', 'images_test_filtered.pkl', 1),\n",
        "         ('images_ul.pkl', 'images_ul_filtered.pkl', 2)\n",
        "]"
      ],
      "execution_count": 97,
      "outputs": []
    },
    {
      "cell_type": "code",
      "metadata": {
        "id": "-mm0BV9Ah5Ja"
      },
      "source": [
        "for original_fn, filtered_fn, _ in files:\n",
        "    with open(f'{path}/{original_fn}', 'rb') as f:\n",
        "        data = pickle.load(f)\n",
        "\n",
        "    with open(f'{path}/{filtered_fn}', 'wb') as f:\n",
        "        thresholded = threshold(data, t=60)\n",
        "        filtered_data = median_filtering(thresholded)\n",
        "        pickle.dump(filtered_data, f)"
      ],
      "execution_count": 94,
      "outputs": []
    },
    {
      "cell_type": "markdown",
      "metadata": {
        "id": "h-W559WffwWY"
      },
      "source": [
        "# Validate the filtering"
      ]
    },
    {
      "cell_type": "code",
      "metadata": {
        "colab": {
          "base_uri": "https://localhost:8080/",
          "height": 879
        },
        "id": "TJDcwwimf0Li",
        "outputId": "2cd15468-6222-4c2b-f1d6-c64519de1cf0"
      },
      "source": [
        "fig, axs = plt.subplots(len(files), 2, figsize=(15,15))\n",
        "for ax, (original_fn, filtered_fn, image_idx) in zip(axs, files):\n",
        "    with open(f'{path}/{original_fn}', 'rb') as f:\n",
        "        data = pickle.load(f)\n",
        "\n",
        "    with open(f'{path}/{filtered_fn}', 'rb') as f:\n",
        "        filtered_data = pickle.load(f)\n",
        "\n",
        "    ax[0].set_title('Original image')\n",
        "    ax[0].imshow(data[image_idx], cmap='gray')\n",
        "    ax[1].set_title('Filtered image')\n",
        "    ax[1].imshow(filtered_data[image_idx], cmap='gray')"
      ],
      "execution_count": 98,
      "outputs": [
        {
          "output_type": "display_data",
          "data": {
            "image/png": "[encoded data removed]",
            "text/plain": [
              "<Figure size 1080x1080 with 6 Axes>"
            ]
          },
          "metadata": {
            "needs_background": "light"
          }
        }
      ]
    },
    {
      "cell_type": "code",
      "metadata": {
        "colab": {
          "base_uri": "https://localhost:8080/",
          "height": 784
        },
        "id": "yalSnWgnrOcK",
        "outputId": "4933ffc1-2c73-44c5-875a-e64b0ed59dcf"
      },
      "source": [
        "def threshold(im, t):\n",
        "    im_ = np.copy(im)\n",
        "    im_[im < t] = 0\n",
        "    # im_[im >= t] = 255\n",
        "    return im_\n",
        "\n",
        "plt.imshow(data[2], cmap='gray')\n",
        "plt.figure()\n",
        "plt.imshow(thresholded[2], cmap='gray')\n",
        "plt.figure()\n",
        "plt.imshow(median_filtering_2D(threshold(data[2], 50)), cmap='gray')\n",
        "np.var(data[3]), np.var(data[4])"
      ],
      "execution_count": 91,
      "outputs": [
        {
          "output_type": "execute_result",
          "data": {
            "text/plain": [
              "(1635.4635164710112, 2463.7658632430175)"
            ]
          },
          "metadata": {},
          "execution_count": 91
        },
        {
          "output_type": "display_data",
          "data": {
            "image/png": "[encoded data removed]",
            "text/plain": [
              "<Figure size 432x288 with 1 Axes>"
            ]
          },
          "metadata": {
            "needs_background": "light"
          }
        },
        {
          "output_type": "display_data",
          "data": {
            "image/png": "[encoded data removed]",
            "text/plain": [
              "<Figure size 432x288 with 1 Axes>"
            ]
          },
          "metadata": {
            "needs_background": "light"
          }
        },
        {
          "output_type": "display_data",
          "data": {
            "image/png": "[encoded data removed]",
            "text/plain": [
              "<Figure size 432x288 with 1 Axes>"
            ]
          },
          "metadata": {
            "needs_background": "light"
          }
        }
      ]
    },
    {
      "cell_type": "code",
      "metadata": {
        "id": "eS1-N7Q7VrZY"
      },
      "source": [
        "thresholded = np.copy(data)\n",
        "thresholded[data<60] = 0"
      ],
      "execution_count": 86,
      "outputs": []
    },
    {
      "cell_type": "code",
      "metadata": {
        "id": "QpaSYJ5YbuD1"
      },
      "source": [
        "from sklearn.neural_network import MLPClassifier\n",
        "from sklearn.model_selection import train_test_split\n",
        "import pickle"
      ],
      "execution_count": 5,
      "outputs": []
    },
    {
      "cell_type": "code",
      "metadata": {
        "id": "kWgkI-Q8SRWN"
      },
      "source": [
        "with open(f'{path}/images_l.pkl', 'rb') as f:\n",
        "    data = pickle.load(f)\n",
        "\n",
        "with open(f'{path}/images_l_filtered.pkl', 'rb') as f:\n",
        "    filtered_data = pickle.load(f)"
      ],
      "execution_count": 6,
      "outputs": []
    },
    {
      "cell_type": "code",
      "metadata": {
        "colab": {
          "base_uri": "https://localhost:8080/"
        },
        "id": "zGZb5G_HT-WE",
        "outputId": "6428335f-fcf4-4e7a-a441-cc8803835433"
      },
      "source": [
        "with open(f'{path}/labels_l.pkl', 'rb') as f:\n",
        "    labels = pickle.load(f)\n",
        "labels.shape"
      ],
      "execution_count": 7,
      "outputs": [
        {
          "output_type": "execute_result",
          "data": {
            "text/plain": [
              "(30000, 36)"
            ]
          },
          "metadata": {},
          "execution_count": 7
        }
      ]
    },
    {
      "cell_type": "code",
      "metadata": {
        "colab": {
          "base_uri": "https://localhost:8080/"
        },
        "id": "jD1Tp2r6S7PP",
        "outputId": "a97c3032-508e-4207-97b2-021c0aa82529"
      },
      "source": [
        "N, *_ = data.shape\n",
        "Xtrain = data[:int(0.8*N)]\n",
        "Xvalid = data[-int(0.2*N):]\n",
        "Xtrain.shape, Xvalid.shape"
      ],
      "execution_count": 7,
      "outputs": [
        {
          "output_type": "execute_result",
          "data": {
            "text/plain": [
              "((24000, 56, 56), (6000, 56, 56))"
            ]
          },
          "metadata": {},
          "execution_count": 7
        }
      ]
    },
    {
      "cell_type": "code",
      "metadata": {
        "id": "HOX2pXnOUHIb"
      },
      "source": [
        "x, y, z = filtered_data.shape\n",
        "filtered_data = filtered_data.reshape((x, y * z))"
      ],
      "execution_count": 8,
      "outputs": []
    },
    {
      "cell_type": "code",
      "metadata": {
        "colab": {
          "base_uri": "https://localhost:8080/"
        },
        "id": "lP6LCjkLUcL2",
        "outputId": "8120bdf1-bd24-49a0-e4a6-c0e2d53453e0"
      },
      "source": [
        "X_train, X_test, y_train, y_test = train_test_split(filtered_data, labels)\n",
        "X_train.shape, y_train.shape"
      ],
      "execution_count": 9,
      "outputs": [
        {
          "output_type": "execute_result",
          "data": {
            "text/plain": [
              "((22500, 3136), (22500, 36))"
            ]
          },
          "metadata": {},
          "execution_count": 9
        }
      ]
    },
    {
      "cell_type": "code",
      "metadata": {
        "colab": {
          "base_uri": "https://localhost:8080/"
        },
        "id": "YvfmetaNRuhx",
        "outputId": "38229476-e595-4d1c-c7e6-0ef6e347bf3a"
      },
      "source": [
        "model = MLPClassifier(hidden_layer_sizes=(200, 200, 100, 100), verbose=True).fit(X_train, y_train)"
      ],
      "execution_count": null,
      "outputs": [
        {
          "output_type": "stream",
          "name": "stdout",
          "text": [
            "Iteration 1, loss = inf\n",
            "Iteration 2, loss = 7.91273010\n",
            "Iteration 3, loss = 7.67660385\n",
            "Iteration 4, loss = 7.51325314\n",
            "Iteration 5, loss = 7.38597872\n",
            "Iteration 6, loss = 7.27778562\n",
            "Iteration 7, loss = 7.18224191\n",
            "Iteration 8, loss = 7.08534572\n",
            "Iteration 9, loss = 7.00464677\n",
            "Iteration 10, loss = 6.90980370\n",
            "Iteration 11, loss = 6.80998151\n",
            "Iteration 12, loss = 6.71775645\n",
            "Iteration 13, loss = 6.62146060\n",
            "Iteration 14, loss = 6.51201273\n",
            "Iteration 15, loss = 6.40610760\n",
            "Iteration 16, loss = 6.30875507\n",
            "Iteration 17, loss = 6.18748043\n",
            "Iteration 18, loss = 6.08247304\n",
            "Iteration 19, loss = 5.97376508\n",
            "Iteration 20, loss = 5.85535759\n",
            "Iteration 21, loss = 5.77302594\n",
            "Iteration 22, loss = 5.67494109\n",
            "Iteration 23, loss = 5.56298098\n",
            "Iteration 24, loss = 5.45530182\n",
            "Iteration 25, loss = 5.33154332\n",
            "Iteration 26, loss = 5.24501635\n",
            "Iteration 27, loss = 5.17842917\n",
            "Iteration 28, loss = 5.08176447\n",
            "Iteration 29, loss = 5.00689913\n",
            "Iteration 30, loss = 4.86955700\n",
            "Iteration 31, loss = 4.80829744\n",
            "Iteration 32, loss = 4.72607537\n",
            "Iteration 33, loss = 4.65550985\n",
            "Iteration 34, loss = 4.55247918\n",
            "Iteration 35, loss = 4.46740314\n",
            "Iteration 36, loss = 4.37987805\n",
            "Iteration 37, loss = 4.28972798\n",
            "Iteration 38, loss = 4.22408096\n",
            "Iteration 39, loss = 4.14764398\n",
            "Iteration 40, loss = 4.08108894\n",
            "Iteration 41, loss = 3.97878175\n",
            "Iteration 42, loss = 3.93255764\n",
            "Iteration 43, loss = 3.85315588\n",
            "Iteration 44, loss = 3.76965489\n",
            "Iteration 45, loss = 3.72732379\n",
            "Iteration 46, loss = 3.69496557\n",
            "Iteration 47, loss = 3.62314200\n",
            "Iteration 48, loss = 3.57624576\n",
            "Iteration 49, loss = 3.52135649\n",
            "Iteration 50, loss = 3.42474772\n",
            "Iteration 51, loss = 3.36776961\n",
            "Iteration 52, loss = 3.31972422\n",
            "Iteration 53, loss = 3.27322720\n",
            "Iteration 54, loss = 3.22901739\n",
            "Iteration 55, loss = 3.16122642\n",
            "Iteration 56, loss = 3.15007509\n",
            "Iteration 57, loss = 3.07696926\n",
            "Iteration 58, loss = 2.99800976\n",
            "Iteration 59, loss = 2.94893988\n",
            "Iteration 60, loss = 2.92055762\n",
            "Iteration 61, loss = 2.94326690\n",
            "Iteration 62, loss = 2.85476086\n",
            "Iteration 63, loss = 2.76620837\n",
            "Iteration 64, loss = 2.77996252\n",
            "Iteration 65, loss = 2.76013419\n",
            "Iteration 66, loss = 2.67807987\n",
            "Iteration 67, loss = 2.61484890\n",
            "Iteration 68, loss = 2.59037438\n",
            "Iteration 69, loss = 2.55219323\n",
            "Iteration 70, loss = 2.56658671\n",
            "Iteration 71, loss = 2.50552709\n",
            "Iteration 72, loss = 2.41174675\n",
            "Iteration 73, loss = 2.47442230\n",
            "Iteration 74, loss = 2.41309763\n",
            "Iteration 75, loss = 2.38177707\n",
            "Iteration 76, loss = 2.36653792\n",
            "Iteration 77, loss = 2.37235969\n",
            "Iteration 78, loss = 2.29998986\n",
            "Iteration 79, loss = 2.20015152\n",
            "Iteration 80, loss = 2.18122927\n",
            "Iteration 81, loss = 2.22530765\n",
            "Iteration 82, loss = 2.24293253\n",
            "Iteration 83, loss = 2.16477391\n",
            "Iteration 84, loss = 2.09219718\n",
            "Iteration 85, loss = 2.07866060\n",
            "Iteration 86, loss = 2.04844347\n",
            "Iteration 87, loss = 1.97945153\n",
            "Iteration 88, loss = 2.04281290\n",
            "Iteration 89, loss = 2.05079316\n",
            "Iteration 90, loss = 2.07238003\n",
            "Iteration 91, loss = 1.98827391\n",
            "Iteration 92, loss = 1.94816235\n",
            "Iteration 93, loss = 1.89104453\n",
            "Iteration 94, loss = 1.89927513\n",
            "Iteration 95, loss = 1.91031464\n",
            "Iteration 96, loss = 1.84771989\n",
            "Iteration 97, loss = 1.85670348\n",
            "Iteration 98, loss = 1.84363345\n",
            "Iteration 99, loss = 1.78995589\n",
            "Iteration 100, loss = 1.72090909\n",
            "Iteration 101, loss = 1.71287170\n",
            "Iteration 102, loss = inf\n",
            "Iteration 103, loss = 1.79097942\n",
            "Iteration 104, loss = 1.77938940\n",
            "Iteration 105, loss = 1.75388721\n",
            "Iteration 106, loss = 1.68279280\n",
            "Iteration 107, loss = 1.70480420\n",
            "Iteration 108, loss = 1.61607411\n",
            "Iteration 109, loss = 1.52692040\n",
            "Iteration 110, loss = 1.55202641\n",
            "Iteration 111, loss = 1.62589699\n",
            "Iteration 112, loss = 1.70721242\n",
            "Iteration 113, loss = 1.65813242\n",
            "Iteration 114, loss = 1.61106040\n",
            "Iteration 115, loss = 1.54525408\n",
            "Iteration 116, loss = 1.49922282\n",
            "Iteration 117, loss = 1.51349970\n",
            "Iteration 118, loss = 1.46871811\n",
            "Iteration 119, loss = 1.40676714\n",
            "Iteration 120, loss = 1.49324975\n",
            "Iteration 121, loss = 1.52782837\n",
            "Iteration 122, loss = 1.58158669\n",
            "Iteration 123, loss = 1.51832790\n",
            "Iteration 124, loss = 1.41133844\n",
            "Iteration 125, loss = 1.34006689\n",
            "Iteration 126, loss = 1.30266891\n",
            "Iteration 127, loss = 1.32434785\n",
            "Iteration 128, loss = 1.40492115\n",
            "Iteration 129, loss = 1.41922813\n",
            "Iteration 130, loss = 1.43197669\n",
            "Iteration 131, loss = 1.51078314\n",
            "Iteration 132, loss = inf\n",
            "Iteration 133, loss = 1.42041932\n",
            "Iteration 134, loss = 1.24264319\n",
            "Iteration 135, loss = 1.13226673\n",
            "Iteration 136, loss = 1.17366607\n",
            "Iteration 137, loss = 1.26774617\n",
            "Iteration 138, loss = 1.35114263\n",
            "Iteration 139, loss = 1.42214985\n",
            "Iteration 140, loss = 1.39480636\n",
            "Iteration 141, loss = 1.35130440\n",
            "Iteration 142, loss = 1.19557783\n",
            "Iteration 143, loss = 1.16800480\n",
            "Iteration 144, loss = 1.10396081\n",
            "Iteration 145, loss = 1.17621802\n",
            "Iteration 146, loss = inf\n",
            "Iteration 147, loss = 1.35165268\n",
            "Iteration 148, loss = 1.32797053\n",
            "Iteration 149, loss = 1.21427616\n",
            "Iteration 150, loss = 1.15593493\n",
            "Iteration 151, loss = 1.12740004\n",
            "Iteration 152, loss = 1.14110791\n",
            "Iteration 153, loss = 1.10012657\n",
            "Iteration 154, loss = 1.06165089\n",
            "Iteration 155, loss = 1.09825079\n",
            "Iteration 156, loss = 1.20230930\n",
            "Iteration 157, loss = 1.28145191\n",
            "Iteration 158, loss = 1.21791927\n",
            "Iteration 159, loss = 1.13111447\n",
            "Iteration 160, loss = 1.13171356\n",
            "Iteration 161, loss = 1.12583885\n",
            "Iteration 162, loss = 1.09756166\n",
            "Iteration 163, loss = 1.06243982\n",
            "Iteration 164, loss = inf\n",
            "Iteration 165, loss = 1.03984781\n",
            "Iteration 166, loss = 1.12647015\n",
            "Iteration 167, loss = 1.15812356\n",
            "Iteration 168, loss = 1.18290209\n",
            "Iteration 169, loss = 1.13056020\n",
            "Iteration 170, loss = 1.04313899\n",
            "Iteration 171, loss = 1.06080362\n",
            "Iteration 172, loss = 1.02217419\n",
            "Iteration 173, loss = 0.93770022\n",
            "Iteration 174, loss = 0.86319309\n",
            "Iteration 175, loss = 0.82401316\n",
            "Iteration 176, loss = 0.91977430\n",
            "Iteration 177, loss = 1.06517609\n"
          ]
        }
      ]
    },
    {
      "cell_type": "code",
      "metadata": {
        "colab": {
          "base_uri": "https://localhost:8080/"
        },
        "id": "mGiKWm5gR32Z",
        "outputId": "aa00e7f5-6c3d-4b85-c2f4-ebdc88d70771"
      },
      "source": [
        "model.score(X_train, y_train)"
      ],
      "execution_count": 32,
      "outputs": [
        {
          "output_type": "execute_result",
          "data": {
            "text/plain": [
              "0.7831555555555556"
            ]
          },
          "metadata": {},
          "execution_count": 32
        }
      ]
    },
    {
      "cell_type": "code",
      "metadata": {
        "colab": {
          "base_uri": "https://localhost:8080/"
        },
        "id": "bN6vblxwXOYC",
        "outputId": "ec5157d7-b5fe-4ed2-8e05-ec6bc3389f6d"
      },
      "source": [
        "model.predict_proba(X_train[:2])\n",
        "labels[2]"
      ],
      "execution_count": 25,
      "outputs": [
        {
          "output_type": "execute_result",
          "data": {
            "text/plain": [
              "array([0., 0., 0., 0., 0., 0., 0., 0., 1., 0., 0., 0., 0., 0., 0., 0., 0.,\n",
              "       0., 1., 0., 0., 0., 0., 0., 0., 0., 0., 0., 0., 0., 0., 0., 0., 0.,\n",
              "       0., 0.])"
            ]
          },
          "metadata": {},
          "execution_count": 25
        }
      ]
    },
    {
      "cell_type": "code",
      "metadata": {
        "colab": {
          "base_uri": "https://localhost:8080/",
          "height": 284
        },
        "id": "rCEzlpOaZ8bP",
        "outputId": "12d1ba94-63a9-4cf0-a456-c7cdf8fafe21"
      },
      "source": [
        "plt.imshow(X_train[2].reshape(56,56), cmap='gray')"
      ],
      "execution_count": 26,
      "outputs": [
        {
          "output_type": "execute_result",
          "data": {
            "text/plain": [
              "<matplotlib.image.AxesImage at 0x7fbfe2052e50>"
            ]
          },
          "metadata": {},
          "execution_count": 26
        },
        {
          "output_type": "display_data",
          "data": {
            "image/png": "[encoded data removed]",
            "text/plain": [
              "<Figure size 432x288 with 1 Axes>"
            ]
          },
          "metadata": {
            "needs_background": "light"
          }
        }
      ]
    },
    {
      "cell_type": "code",
      "metadata": {
        "id": "Fx9qJRB3zNgz"
      },
      "source": [
        ""
      ],
      "execution_count": null,
      "outputs": []
    }
  ]
}